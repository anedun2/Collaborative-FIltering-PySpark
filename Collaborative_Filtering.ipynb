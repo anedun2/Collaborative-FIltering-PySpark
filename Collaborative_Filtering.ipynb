{
  "nbformat": 4,
  "nbformat_minor": 0,
  "metadata": {
    "colab": {
      "name": "Collaborative_Filtering.ipynb",
      "provenance": [],
      "collapsed_sections": []
    },
    "kernelspec": {
      "name": "python3",
      "display_name": "Python 3"
    }
  },
  "cells": [
    {
      "cell_type": "code",
      "metadata": {
        "id": "iOSVZM5E7RAL",
        "colab_type": "code",
        "colab": {}
      },
      "source": [
        "!apt-get install openjdk-8-jdk-headless -qq > /dev/null"
      ],
      "execution_count": 0,
      "outputs": []
    },
    {
      "cell_type": "code",
      "metadata": {
        "id": "-xqfRx6s7Zl7",
        "colab_type": "code",
        "colab": {}
      },
      "source": [
        "!wget -q http://apache.mirrors.pair.com/spark/spark-2.4.4/spark-2.4.4-bin-hadoop2.7.tgz"
      ],
      "execution_count": 0,
      "outputs": []
    },
    {
      "cell_type": "code",
      "metadata": {
        "id": "-OjYDsHb7cdT",
        "colab_type": "code",
        "outputId": "85a169c7-79cb-4367-bcac-e16c052a11f3",
        "colab": {
          "base_uri": "https://localhost:8080/",
          "height": 34
        }
      },
      "source": [
        "!ls"
      ],
      "execution_count": 0,
      "outputs": [
        {
          "output_type": "stream",
          "text": [
            "sample_data  spark-2.4.4-bin-hadoop2.7.tgz\n"
          ],
          "name": "stdout"
        }
      ]
    },
    {
      "cell_type": "code",
      "metadata": {
        "id": "7MS2-3jU7haz",
        "colab_type": "code",
        "colab": {}
      },
      "source": [
        "!tar -xvf spark-2.4.4-bin-hadoop2.7.tgz"
      ],
      "execution_count": 0,
      "outputs": []
    },
    {
      "cell_type": "code",
      "metadata": {
        "id": "_mytu3Bm7kZ1",
        "colab_type": "code",
        "outputId": "3445b4e7-d375-40aa-86f2-799b8519c343",
        "colab": {
          "base_uri": "https://localhost:8080/",
          "height": 34
        }
      },
      "source": [
        "!ls "
      ],
      "execution_count": 0,
      "outputs": [
        {
          "output_type": "stream",
          "text": [
            "sample_data  spark-2.4.4-bin-hadoop2.7\tspark-2.4.4-bin-hadoop2.7.tgz\n"
          ],
          "name": "stdout"
        }
      ]
    },
    {
      "cell_type": "code",
      "metadata": {
        "id": "Kyne_yA47n9Z",
        "colab_type": "code",
        "colab": {}
      },
      "source": [
        "!pip install -q findspark"
      ],
      "execution_count": 0,
      "outputs": []
    },
    {
      "cell_type": "code",
      "metadata": {
        "id": "sOuO0S7y7tzA",
        "colab_type": "code",
        "colab": {}
      },
      "source": [
        "import os\n",
        "os.environ[\"JAVA_HOME\"] = \"/usr/lib/jvm/java-8-openjdk-amd64\"\n",
        "os.environ[\"SPARK_HOME\"] = \"/content/spark-2.4.4-bin-hadoop2.7\""
      ],
      "execution_count": 0,
      "outputs": []
    },
    {
      "cell_type": "code",
      "metadata": {
        "id": "m__UKu8C7ylW",
        "colab_type": "code",
        "colab": {}
      },
      "source": [
        "import findspark\n",
        "findspark.init()\n",
        "from pyspark.sql import SparkSession, SQLContext\n",
        "spark = SparkSession.builder.master(\"local[*]\").getOrCreate()"
      ],
      "execution_count": 0,
      "outputs": []
    },
    {
      "cell_type": "code",
      "metadata": {
        "id": "_RC_GaN274vB",
        "colab_type": "code",
        "outputId": "effc8320-97e1-42bf-e551-6177ba16cdb6",
        "colab": {
          "base_uri": "https://localhost:8080/",
          "height": 190
        }
      },
      "source": [
        "df = spark.createDataFrame([{\"Google\": \"Colab\",\"Spark\": \"Scala\"} ,{\"Google\": \"Dataproc\",\"Spark\":\"Python\"}])\n",
        "df.show()"
      ],
      "execution_count": 0,
      "outputs": [
        {
          "output_type": "stream",
          "text": [
            "/content/spark-2.4.4-bin-hadoop2.7/python/pyspark/sql/session.py:346: UserWarning: inferring schema from dict is deprecated,please use pyspark.sql.Row instead\n",
            "  warnings.warn(\"inferring schema from dict is deprecated,\"\n"
          ],
          "name": "stderr"
        },
        {
          "output_type": "stream",
          "text": [
            "+--------+------+\n",
            "|  Google| Spark|\n",
            "+--------+------+\n",
            "|   Colab| Scala|\n",
            "|Dataproc|Python|\n",
            "+--------+------+\n",
            "\n"
          ],
          "name": "stdout"
        }
      ]
    },
    {
      "cell_type": "code",
      "metadata": {
        "id": "_cxGHJpF9cSu",
        "colab_type": "code",
        "colab": {}
      },
      "source": [
        "import string # to remove punctuation\n",
        "import re\n",
        "import pandas as pd\n",
        "import os\n",
        "import itertools\n",
        "from collections import Counter\n",
        "from pyspark.sql.functions import *\n",
        "from pyspark.sql import functions as f\n",
        "from pyspark.sql.types import IntegerType, StringType\n",
        "from pyspark.sql.functions import udf, col\n",
        "from pyspark.ml.recommendation import ALS, ALSModel\n",
        "from pyspark.ml.evaluation import RegressionEvaluator\n"
      ],
      "execution_count": 0,
      "outputs": []
    },
    {
      "cell_type": "code",
      "metadata": {
        "id": "TouL-wgpTdZU",
        "colab_type": "code",
        "colab": {}
      },
      "source": [
        "from pyspark.sql import SQLContext\n",
        "sqlContext = SQLContext(spark)"
      ],
      "execution_count": 0,
      "outputs": []
    },
    {
      "cell_type": "markdown",
      "metadata": {
        "id": "YK_WEh2plncJ",
        "colab_type": "text"
      },
      "source": [
        "# Step 1: Load data"
      ]
    },
    {
      "cell_type": "code",
      "metadata": {
        "id": "3bWoyWFazUxw",
        "colab_type": "code",
        "outputId": "7547f75a-c13b-4207-c703-da3d85f08b8e",
        "colab": {
          "base_uri": "https://localhost:8080/",
          "height": 122
        }
      },
      "source": [
        "#mounting google drive\n",
        "from google.colab import drive\n",
        "drive.mount('/content/drive')"
      ],
      "execution_count": 0,
      "outputs": [
        {
          "output_type": "stream",
          "text": [
            "Go to this URL in a browser: https://accounts.google.com/o/oauth2/auth?client_id=947318989803-6bn6qk8qdgf4n4g3pfee6491hc0brc4i.apps.googleusercontent.com&redirect_uri=urn%3aietf%3awg%3aoauth%3a2.0%3aoob&response_type=code&scope=email%20https%3a%2f%2fwww.googleapis.com%2fauth%2fdocs.test%20https%3a%2f%2fwww.googleapis.com%2fauth%2fdrive%20https%3a%2f%2fwww.googleapis.com%2fauth%2fdrive.photos.readonly%20https%3a%2f%2fwww.googleapis.com%2fauth%2fpeopleapi.readonly\n",
            "\n",
            "Enter your authorization code:\n",
            "··········\n",
            "Mounted at /content/drive\n"
          ],
          "name": "stdout"
        }
      ]
    },
    {
      "cell_type": "code",
      "metadata": {
        "id": "RV3beoAr_nuL",
        "colab_type": "code",
        "outputId": "c97651ff-5b75-4561-fc27-cd3bf83180c3",
        "colab": {
          "base_uri": "https://localhost:8080/",
          "height": 34
        }
      },
      "source": [
        "!ls"
      ],
      "execution_count": 0,
      "outputs": [
        {
          "output_type": "stream",
          "text": [
            "drive  sample_data  spark-2.4.4-bin-hadoop2.7  spark-2.4.4-bin-hadoop2.7.tgz\n"
          ],
          "name": "stdout"
        }
      ]
    },
    {
      "cell_type": "code",
      "metadata": {
        "id": "F2i5r-3T98Zc",
        "colab_type": "code",
        "outputId": "93022b32-08d9-48c7-e814-8a59c9ae73fa",
        "colab": {
          "base_uri": "https://localhost:8080/",
          "height": 34
        }
      },
      "source": [
        "#storing the file as dataframes\n",
        "from pyspark.ml.feature import VectorAssembler\n",
        "from pyspark.ml.regression import LinearRegression\n",
        "dataset = sqlContext.read.format(\"com.databricks.spark.csv\").option(\"delimiter\", \"\\t\").load(\"/content/drive/My Drive/ml-100k/u.data\")\n",
        "type(dataset)"
      ],
      "execution_count": 0,
      "outputs": [
        {
          "output_type": "execute_result",
          "data": {
            "text/plain": [
              "pyspark.sql.dataframe.DataFrame"
            ]
          },
          "metadata": {
            "tags": []
          },
          "execution_count": 16
        }
      ]
    },
    {
      "cell_type": "code",
      "metadata": {
        "id": "vkySj-GqNIeL",
        "colab_type": "code",
        "outputId": "04724ba7-41ff-46f3-f110-ca328fdf9283",
        "colab": {
          "base_uri": "https://localhost:8080/",
          "height": 119
        }
      },
      "source": [
        "dataset.printSchema()"
      ],
      "execution_count": 0,
      "outputs": [
        {
          "output_type": "stream",
          "text": [
            "root\n",
            " |-- _c0: string (nullable = true)\n",
            " |-- _c1: string (nullable = true)\n",
            " |-- _c2: string (nullable = true)\n",
            " |-- _c3: string (nullable = true)\n",
            "\n"
          ],
          "name": "stdout"
        }
      ]
    },
    {
      "cell_type": "code",
      "metadata": {
        "id": "FSzPRdf7lrqx",
        "colab_type": "code",
        "outputId": "80a56d2c-dbc9-4c22-d6f4-b900faf3c9fc",
        "colab": {
          "base_uri": "https://localhost:8080/",
          "height": 459
        }
      },
      "source": [
        "dataset.show()"
      ],
      "execution_count": 0,
      "outputs": [
        {
          "output_type": "stream",
          "text": [
            "+---+----+---+---------+\n",
            "|_c0| _c1|_c2|      _c3|\n",
            "+---+----+---+---------+\n",
            "|196| 242|  3|881250949|\n",
            "|186| 302|  3|891717742|\n",
            "| 22| 377|  1|878887116|\n",
            "|244|  51|  2|880606923|\n",
            "|166| 346|  1|886397596|\n",
            "|298| 474|  4|884182806|\n",
            "|115| 265|  2|881171488|\n",
            "|253| 465|  5|891628467|\n",
            "|305| 451|  3|886324817|\n",
            "|  6|  86|  3|883603013|\n",
            "| 62| 257|  2|879372434|\n",
            "|286|1014|  5|879781125|\n",
            "|200| 222|  5|876042340|\n",
            "|210|  40|  3|891035994|\n",
            "|224|  29|  3|888104457|\n",
            "|303| 785|  3|879485318|\n",
            "|122| 387|  5|879270459|\n",
            "|194| 274|  2|879539794|\n",
            "|291|1042|  4|874834944|\n",
            "|234|1184|  2|892079237|\n",
            "+---+----+---+---------+\n",
            "only showing top 20 rows\n",
            "\n"
          ],
          "name": "stdout"
        }
      ]
    },
    {
      "cell_type": "code",
      "metadata": {
        "id": "dXpnl67qYWB_",
        "colab_type": "code",
        "outputId": "9cc0f100-a7cb-4146-8ef4-9c37cd838fce",
        "colab": {
          "base_uri": "https://localhost:8080/",
          "height": 459
        }
      },
      "source": [
        "#Changing column names\n",
        "data = dataset.select(col(\"_c0\").alias(\"user_id\"), col(\"_c1\").alias(\"item_id\"), col(\"_c2\").alias(\"rating\"), col(\"_c3\").alias(\"timestamp\"))\n",
        "data.show()"
      ],
      "execution_count": 0,
      "outputs": [
        {
          "output_type": "stream",
          "text": [
            "+-------+-------+------+---------+\n",
            "|user_id|item_id|rating|timestamp|\n",
            "+-------+-------+------+---------+\n",
            "|    196|    242|     3|881250949|\n",
            "|    186|    302|     3|891717742|\n",
            "|     22|    377|     1|878887116|\n",
            "|    244|     51|     2|880606923|\n",
            "|    166|    346|     1|886397596|\n",
            "|    298|    474|     4|884182806|\n",
            "|    115|    265|     2|881171488|\n",
            "|    253|    465|     5|891628467|\n",
            "|    305|    451|     3|886324817|\n",
            "|      6|     86|     3|883603013|\n",
            "|     62|    257|     2|879372434|\n",
            "|    286|   1014|     5|879781125|\n",
            "|    200|    222|     5|876042340|\n",
            "|    210|     40|     3|891035994|\n",
            "|    224|     29|     3|888104457|\n",
            "|    303|    785|     3|879485318|\n",
            "|    122|    387|     5|879270459|\n",
            "|    194|    274|     2|879539794|\n",
            "|    291|   1042|     4|874834944|\n",
            "|    234|   1184|     2|892079237|\n",
            "+-------+-------+------+---------+\n",
            "only showing top 20 rows\n",
            "\n"
          ],
          "name": "stdout"
        }
      ]
    },
    {
      "cell_type": "code",
      "metadata": {
        "id": "Pr-SbAogZD-C",
        "colab_type": "code",
        "outputId": "3c2677d3-0c5b-4a95-d295-043d040a1be0",
        "colab": {
          "base_uri": "https://localhost:8080/",
          "height": 459
        }
      },
      "source": [
        "df = data.select('user_id', 'item_id', 'rating')\n",
        "df.show()"
      ],
      "execution_count": 0,
      "outputs": [
        {
          "output_type": "stream",
          "text": [
            "+-------+-------+------+\n",
            "|user_id|item_id|rating|\n",
            "+-------+-------+------+\n",
            "|    196|    242|     3|\n",
            "|    186|    302|     3|\n",
            "|     22|    377|     1|\n",
            "|    244|     51|     2|\n",
            "|    166|    346|     1|\n",
            "|    298|    474|     4|\n",
            "|    115|    265|     2|\n",
            "|    253|    465|     5|\n",
            "|    305|    451|     3|\n",
            "|      6|     86|     3|\n",
            "|     62|    257|     2|\n",
            "|    286|   1014|     5|\n",
            "|    200|    222|     5|\n",
            "|    210|     40|     3|\n",
            "|    224|     29|     3|\n",
            "|    303|    785|     3|\n",
            "|    122|    387|     5|\n",
            "|    194|    274|     2|\n",
            "|    291|   1042|     4|\n",
            "|    234|   1184|     2|\n",
            "+-------+-------+------+\n",
            "only showing top 20 rows\n",
            "\n"
          ],
          "name": "stdout"
        }
      ]
    },
    {
      "cell_type": "markdown",
      "metadata": {
        "id": "TinfClJ5mTQP",
        "colab_type": "text"
      },
      "source": [
        "# Step 2: Data type conversions"
      ]
    },
    {
      "cell_type": "code",
      "metadata": {
        "id": "bLkaIwMtZcNU",
        "colab_type": "code",
        "colab": {}
      },
      "source": [
        "dfs = df.withColumn(\"user_id\", df[\"user_id\"].cast(IntegerType()))\n",
        "dfs.printSchema()"
      ],
      "execution_count": 0,
      "outputs": []
    },
    {
      "cell_type": "code",
      "metadata": {
        "id": "hjA_EpIvbEgt",
        "colab_type": "code",
        "colab": {}
      },
      "source": [
        "dfs1 = dfs.withColumn(\"item_id\", df[\"item_id\"].cast(IntegerType()))\n",
        "dfs1.printSchema()"
      ],
      "execution_count": 0,
      "outputs": []
    },
    {
      "cell_type": "code",
      "metadata": {
        "id": "2ygmcbgpbqqx",
        "colab_type": "code",
        "outputId": "dbe11372-6dc4-4c62-935a-81bb064451af",
        "colab": {
          "base_uri": "https://localhost:8080/",
          "height": 102
        }
      },
      "source": [
        "dfs2 = dfs1.withColumn(\"rating\", df[\"rating\"].cast(IntegerType()))\n",
        "dfs2.printSchema()"
      ],
      "execution_count": 0,
      "outputs": [
        {
          "output_type": "stream",
          "text": [
            "root\n",
            " |-- user_id: integer (nullable = true)\n",
            " |-- item_id: integer (nullable = true)\n",
            " |-- rating: integer (nullable = true)\n",
            "\n"
          ],
          "name": "stdout"
        }
      ]
    },
    {
      "cell_type": "markdown",
      "metadata": {
        "id": "A0ni-hq_iBR0",
        "colab_type": "text"
      },
      "source": [
        "# Step 3: Build Data Model"
      ]
    },
    {
      "cell_type": "code",
      "metadata": {
        "id": "_xweRJqfcAzx",
        "colab_type": "code",
        "colab": {}
      },
      "source": [
        "#Randomly splitting data into training and testing data\n",
        "(training, test) = dfs2.randomSplit([0.8, 0.2])"
      ],
      "execution_count": 0,
      "outputs": []
    },
    {
      "cell_type": "code",
      "metadata": {
        "id": "RUfXf29mehil",
        "colab_type": "code",
        "outputId": "9ada991f-fff7-4d88-9f62-2b1e3fa393a8",
        "colab": {
          "base_uri": "https://localhost:8080/",
          "height": 51
        }
      },
      "source": [
        "# Build the recommendation model using ALS on the training data\n",
        "# We set cold start strategy to 'drop' to ensure we don't get NaN evaluation metrics\n",
        "als = ALS(rank=10, #10 was by default\n",
        "          maxIter=20, regParam=0.1,\n",
        "          userCol=\"user_id\", itemCol=\"item_id\", ratingCol=\"rating\",\n",
        "          coldStartStrategy=\"drop\",\n",
        "          implicitPrefs=False)\n",
        "model = als.fit(training)\n",
        "\n",
        "# Evaluate the model by computing the RMSE on the test data\n",
        "predictions = model.transform(training)\n",
        "predictions1 = model.transform(test)\n",
        "evaluator = RegressionEvaluator(metricName=\"rmse\", labelCol=\"rating\",\n",
        "                                predictionCol=\"prediction\")\n",
        "\n",
        "rmse = evaluator.evaluate(predictions)\n",
        "print(\"Root-mean-square error training = \" + str(rmse))\n",
        "\n",
        "rmse1 = evaluator.evaluate(predictions1)\n",
        "print(\"Root-mean-square error test = \" + str(rmse1))\n"
      ],
      "execution_count": 0,
      "outputs": [
        {
          "output_type": "stream",
          "text": [
            "Root-mean-square error training = 0.7381322297942123\n",
            "Root-mean-square error test = 0.9207759730181222\n"
          ],
          "name": "stdout"
        }
      ]
    },
    {
      "cell_type": "markdown",
      "metadata": {
        "id": "vi47czuzimM_",
        "colab_type": "text"
      },
      "source": [
        "# Step 4: Give recommendations based on the model"
      ]
    },
    {
      "cell_type": "code",
      "metadata": {
        "id": "ItSoAW1SgzEE",
        "colab_type": "code",
        "outputId": "a8a5ae7e-c972-459a-e7d7-fe87032507ae",
        "colab": {
          "base_uri": "https://localhost:8080/",
          "height": 51
        }
      },
      "source": [
        "#Recommending top 10 movies for each user\n",
        "%%time\n",
        "\n",
        "top10movRecforusers = model.recommendForAllUsers(10)"
      ],
      "execution_count": 0,
      "outputs": [
        {
          "output_type": "stream",
          "text": [
            "CPU times: user 2.7 ms, sys: 0 ns, total: 2.7 ms\n",
            "Wall time: 5.14 s\n"
          ],
          "name": "stdout"
        }
      ]
    },
    {
      "cell_type": "code",
      "metadata": {
        "id": "l95T_K4Irmhm",
        "colab_type": "code",
        "outputId": "c058c30d-7bde-4793-e59c-36ca1ef7160f",
        "colab": {
          "base_uri": "https://localhost:8080/",
          "height": 459
        }
      },
      "source": [
        "top10movRecforusersorted = top10movRecforusers.orderBy('user_id')\n",
        "top10movRecforusersorted.show()"
      ],
      "execution_count": 0,
      "outputs": [
        {
          "output_type": "stream",
          "text": [
            "+-------+--------------------+\n",
            "|user_id|     recommendations|\n",
            "+-------+--------------------+\n",
            "|      1|[[1449, 5.1090508...|\n",
            "|      2|[[1449, 4.869077]...|\n",
            "|      3|[[320, 4.389251],...|\n",
            "|      4|[[1642, 6.1412396...|\n",
            "|      5|[[1268, 5.044817]...|\n",
            "|      6|[[1643, 4.892668]...|\n",
            "|      7|[[1643, 5.7340493...|\n",
            "|      8|[[1449, 4.953917]...|\n",
            "|      9|[[1367, 5.4910636...|\n",
            "|     10|[[1643, 4.979647]...|\n",
            "|     11|[[1344, 4.3760114...|\n",
            "|     12|[[64, 5.124106], ...|\n",
            "|     13|[[814, 4.896], [1...|\n",
            "|     14|[[1344, 5.23139],...|\n",
            "|     15|[[1450, 4.7111773...|\n",
            "|     16|[[1643, 5.42787],...|\n",
            "|     17|[[838, 4.335469],...|\n",
            "|     18|[[1628, 4.7774544...|\n",
            "|     19|[[1463, 5.5382385...|\n",
            "|     20|[[1167, 4.8297143...|\n",
            "+-------+--------------------+\n",
            "only showing top 20 rows\n",
            "\n"
          ],
          "name": "stdout"
        }
      ]
    },
    {
      "cell_type": "markdown",
      "metadata": {
        "id": "UjfXcEAajEuF",
        "colab_type": "text"
      },
      "source": [
        "# Step 5: Storing the output in a file"
      ]
    },
    {
      "cell_type": "code",
      "metadata": {
        "id": "nzb-vFVac2RR",
        "colab_type": "code",
        "colab": {}
      },
      "source": [
        "top10 = top10movRecforusersorted.withColumn(\"user_id\", top10movRecforusersorted[\"user_id\"].cast(StringType()))"
      ],
      "execution_count": 0,
      "outputs": []
    },
    {
      "cell_type": "code",
      "metadata": {
        "id": "4_BNlcMjdNV2",
        "colab_type": "code",
        "colab": {}
      },
      "source": [
        "top10mov = top10.withColumn(\"recommendations\", top10[\"recommendations\"].cast(StringType()))"
      ],
      "execution_count": 0,
      "outputs": []
    },
    {
      "cell_type": "code",
      "metadata": {
        "id": "Yu-mtDgseip4",
        "colab_type": "code",
        "colab": {}
      },
      "source": [
        "top10mov.repartition(1).write.format(\"com.databricks.spark.csv\").option(\"header\", \"true\").save(\"/content/drive/My Drive/anedun_HW4\")"
      ],
      "execution_count": 0,
      "outputs": []
    }
  ]
}